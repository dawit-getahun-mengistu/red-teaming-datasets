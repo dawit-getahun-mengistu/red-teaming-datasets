{
 "cells": [
  {
   "cell_type": "code",
   "execution_count": 9,
   "id": "94329075",
   "metadata": {},
   "outputs": [],
   "source": [
    "from datasets import load_dataset\n",
    "\n",
    "ds = load_dataset(\"Anthropic/hh-rlhf\")"
   ]
  },
  {
   "cell_type": "code",
   "execution_count": 10,
   "id": "f4f51aac",
   "metadata": {},
   "outputs": [
    {
     "data": {
      "text/plain": [
       "DatasetDict({\n",
       "    train: Dataset({\n",
       "        features: ['chosen', 'rejected'],\n",
       "        num_rows: 160800\n",
       "    })\n",
       "    test: Dataset({\n",
       "        features: ['chosen', 'rejected'],\n",
       "        num_rows: 8552\n",
       "    })\n",
       "})"
      ]
     },
     "execution_count": 10,
     "metadata": {},
     "output_type": "execute_result"
    }
   ],
   "source": [
    "ds"
   ]
  },
  {
   "cell_type": "code",
   "execution_count": 11,
   "id": "bb95744d",
   "metadata": {},
   "outputs": [
    {
     "name": "stderr",
     "output_type": "stream",
     "text": [
      "Saving the dataset (1/1 shards): 100%|██████████| 160800/160800 [00:00<00:00, 453824.54 examples/s]\n",
      "Saving the dataset (1/1 shards): 100%|██████████| 8552/8552 [00:00<00:00, 445813.24 examples/s]\n"
     ]
    }
   ],
   "source": [
    "ds.save_to_disk(\"Anthropic-hh-rlhf\")"
   ]
  },
  {
   "cell_type": "code",
   "execution_count": 12,
   "id": "0acc8d93",
   "metadata": {},
   "outputs": [
    {
     "name": "stderr",
     "output_type": "stream",
     "text": [
      "Creating CSV from Arrow format: 100%|██████████| 161/161 [00:08<00:00, 18.40ba/s]\n",
      "Creating CSV from Arrow format: 100%|██████████| 9/9 [00:00<00:00, 17.29ba/s]\n"
     ]
    },
    {
     "data": {
      "text/plain": [
       "16560280"
      ]
     },
     "execution_count": 12,
     "metadata": {},
     "output_type": "execute_result"
    }
   ],
   "source": [
    "ds[\"train\"].to_csv(\"train.csv\")\n",
    "ds[\"test\"].to_csv(\"test.csv\")\n"
   ]
  },
  {
   "cell_type": "code",
   "execution_count": null,
   "id": "d53c2475",
   "metadata": {},
   "outputs": [
    {
     "name": "stderr",
     "output_type": "stream",
     "text": [
      "Creating json from Arrow format:   0%|          | 0/161 [00:00<?, ?ba/s]"
     ]
    },
    {
     "name": "stderr",
     "output_type": "stream",
     "text": [
      "Creating json from Arrow format: 100%|██████████| 161/161 [00:04<00:00, 39.30ba/s]\n",
      "Creating json from Arrow format: 100%|██████████| 9/9 [00:00<00:00, 43.41ba/s]\n"
     ]
    },
    {
     "data": {
      "text/plain": [
       "17136675"
      ]
     },
     "execution_count": 14,
     "metadata": {},
     "output_type": "execute_result"
    }
   ],
   "source": [
    "ds[\"train\"].to_json(\"train.json\")\n",
    "ds[\"test\"].to_json(\"test.json\")\n"
   ]
  },
  {
   "cell_type": "code",
   "execution_count": null,
   "id": "320a31b2",
   "metadata": {},
   "outputs": [],
   "source": [
    "# from typing import Optional\n",
    "# from datasets import load_dataset, load_dataset_builder\n",
    "# import logging\n",
    "\n",
    "# logging.basicConfig(level=logging.INFO)\n",
    "# logger = logging.getLogger(__name__)\n",
    "\n",
    "\n",
    "# class DatasetWrapper:\n",
    "#     \"\"\"Wrapper class for interacting with datasets, allowing for loading, filtering, and transforming data.\n",
    "#     Attributies:\n",
    "#     dataset_path (str)\n",
    "#     dataset_name (str)\n",
    "#     token (str): The API token for accessing the dataset\n",
    "#     dataset (Dataset): The loaded dataset\n",
    "#     \"\"\"\n",
    "\n",
    "#     def __init__(\n",
    "#         self,\n",
    "#         dataset_path: str,\n",
    "#         dataset_name: str = \"\",\n",
    "#         token: Optional[str] = None,\n",
    "#     ) -> None:\n",
    "#         \"\"\"Initialize the wrapper\n",
    "#         Args:\n",
    "#             dataset_path (str),\n",
    "#             dataset_name (str): the name of the dataset ie. subdirectory with specific version of dataset\n",
    "#             token (str): The API token for accessing the dataset\n",
    "#         \"\"\"\n",
    "#         self.dataset_path = dataset_path\n",
    "#         self.dataset_name = dataset_name\n",
    "#         self.token = token\n",
    "#         self.dataset = self._load_dataset()\n",
    "\n",
    "#     def _load_dataset(self, split=\"train\"):\n",
    "#         \"\"\"Loads the dataset using the specified path and name.\"\"\"\n",
    "#         ds_builder = load_dataset_builder(\n",
    "#             self.dataset_path, name=self.dataset_name, token=self.token\n",
    "#         )\n",
    "#         logger.info(\"Dataset description:\", ds_builder.info.description)\n",
    "#         logger.info(\"Dataset features:\", ds_builder.info.features)\n",
    "#         if self.token:\n",
    "#             return load_dataset(\n",
    "#                 self.dataset_path, self.dataset_name, split=split, token=self.token\n",
    "#             )\n",
    "#         else:\n",
    "#             return load_dataset(self.dataset_path, self.dataset_name, split=split)"
   ]
  },
  {
   "cell_type": "code",
   "execution_count": 4,
   "id": "82b060b5",
   "metadata": {},
   "outputs": [],
   "source": [
    "# wrapper = DatasetWrapper(dataset_path=\"Anthropic/hh-rlhf\")"
   ]
  },
  {
   "cell_type": "code",
   "execution_count": null,
   "id": "c6a22848",
   "metadata": {},
   "outputs": [],
   "source": []
  }
 ],
 "metadata": {
  "kernelspec": {
   "display_name": "red-teaming-datasets-profiling",
   "language": "python",
   "name": "python3"
  },
  "language_info": {
   "codemirror_mode": {
    "name": "ipython",
    "version": 3
   },
   "file_extension": ".py",
   "mimetype": "text/x-python",
   "name": "python",
   "nbconvert_exporter": "python",
   "pygments_lexer": "ipython3",
   "version": "3.13.3"
  }
 },
 "nbformat": 4,
 "nbformat_minor": 5
}
