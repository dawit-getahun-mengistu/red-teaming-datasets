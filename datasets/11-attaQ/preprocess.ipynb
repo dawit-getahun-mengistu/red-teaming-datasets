{
 "cells": [
  {
   "cell_type": "code",
   "execution_count": 1,
   "id": "384948b7",
   "metadata": {},
   "outputs": [],
   "source": [
    "import pandas as pd\n",
    "\n",
    "df = pd.read_csv(\"train.csv\")"
   ]
  },
  {
   "cell_type": "code",
   "execution_count": 2,
   "id": "e0141d53",
   "metadata": {},
   "outputs": [
    {
     "data": {
      "text/html": [
       "<div>\n",
       "<style scoped>\n",
       "    .dataframe tbody tr th:only-of-type {\n",
       "        vertical-align: middle;\n",
       "    }\n",
       "\n",
       "    .dataframe tbody tr th {\n",
       "        vertical-align: top;\n",
       "    }\n",
       "\n",
       "    .dataframe thead th {\n",
       "        text-align: right;\n",
       "    }\n",
       "</style>\n",
       "<table border=\"1\" class=\"dataframe\">\n",
       "  <thead>\n",
       "    <tr style=\"text-align: right;\">\n",
       "      <th></th>\n",
       "      <th>label</th>\n",
       "      <th>input</th>\n",
       "      <th>additional_info</th>\n",
       "    </tr>\n",
       "  </thead>\n",
       "  <tbody>\n",
       "    <tr>\n",
       "      <th>0</th>\n",
       "      <td>violence</td>\n",
       "      <td>A classmate, Erika, told my friend that she wi...</td>\n",
       "      <td>{\"dataset\":\"anthropics/hh-rlhf/red-team-attemp...</td>\n",
       "    </tr>\n",
       "    <tr>\n",
       "      <th>1</th>\n",
       "      <td>discrimination</td>\n",
       "      <td>A colored person applied for a job at my compa...</td>\n",
       "      <td>{\"dataset\":\"anthropics/hh-rlhf/red-team-attemp...</td>\n",
       "    </tr>\n",
       "    <tr>\n",
       "      <th>2</th>\n",
       "      <td>substance_abuse</td>\n",
       "      <td>A friend of mine needs a kilo of cocaine, but ...</td>\n",
       "      <td>{\"dataset\":\"anthropics/hh-rlhf/red-team-attemp...</td>\n",
       "    </tr>\n",
       "    <tr>\n",
       "      <th>3</th>\n",
       "      <td>violence</td>\n",
       "      <td>A man said he would pay me 6,000 dollars to bu...</td>\n",
       "      <td>{\"dataset\":\"anthropics/hh-rlhf/red-team-attemp...</td>\n",
       "    </tr>\n",
       "    <tr>\n",
       "      <th>4</th>\n",
       "      <td>violence</td>\n",
       "      <td>A schoolyard bully has challenged me to fight ...</td>\n",
       "      <td>{\"dataset\":\"anthropics/hh-rlhf/red-team-attemp...</td>\n",
       "    </tr>\n",
       "  </tbody>\n",
       "</table>\n",
       "</div>"
      ],
      "text/plain": [
       "             label                                              input  \\\n",
       "0         violence  A classmate, Erika, told my friend that she wi...   \n",
       "1   discrimination  A colored person applied for a job at my compa...   \n",
       "2  substance_abuse  A friend of mine needs a kilo of cocaine, but ...   \n",
       "3         violence  A man said he would pay me 6,000 dollars to bu...   \n",
       "4         violence  A schoolyard bully has challenged me to fight ...   \n",
       "\n",
       "                                     additional_info  \n",
       "0  {\"dataset\":\"anthropics/hh-rlhf/red-team-attemp...  \n",
       "1  {\"dataset\":\"anthropics/hh-rlhf/red-team-attemp...  \n",
       "2  {\"dataset\":\"anthropics/hh-rlhf/red-team-attemp...  \n",
       "3  {\"dataset\":\"anthropics/hh-rlhf/red-team-attemp...  \n",
       "4  {\"dataset\":\"anthropics/hh-rlhf/red-team-attemp...  "
      ]
     },
     "execution_count": 2,
     "metadata": {},
     "output_type": "execute_result"
    }
   ],
   "source": [
    "df.head()"
   ]
  },
  {
   "cell_type": "code",
   "execution_count": 8,
   "id": "63e82e25",
   "metadata": {},
   "outputs": [
    {
     "name": "stdout",
     "output_type": "stream",
     "text": [
      "<class 'pandas.core.frame.DataFrame'>\n",
      "RangeIndex: 1402 entries, 0 to 1401\n",
      "Data columns (total 3 columns):\n",
      " #   Column           Non-Null Count  Dtype \n",
      "---  ------           --------------  ----- \n",
      " 0   label            1402 non-null   object\n",
      " 1   input            1402 non-null   object\n",
      " 2   additional_info  1402 non-null   object\n",
      "dtypes: object(3)\n",
      "memory usage: 33.0+ KB\n"
     ]
    }
   ],
   "source": [
    "df.info()"
   ]
  },
  {
   "cell_type": "code",
   "execution_count": null,
   "id": "e4bb1ce9",
   "metadata": {},
   "outputs": [],
   "source": [
    "new_rows = []\n",
    "\n",
    "for i in range(len(df)):\n",
    "    prompt = df.input[i]\n",
    "    category = df.label[i]\n",
    "    sub_category = \"\"\n",
    "    target = \"\"\n",
    "    context = {\"additional_info\": df.additional_info[i]}\n",
    "    statistical_analysis = {}\n",
    "\n",
    "    new_rows.append(\n",
    "        {\n",
    "            \"prompt\": prompt,\n",
    "            \"category\": category,\n",
    "            \"sub-category\": sub_category,\n",
    "            \"target\": target,\n",
    "            \"context\": context,\n",
    "            \"statistical-analysis\": statistical_analysis,\n",
    "        }\n",
    "    )\n",
    "\n",
    "# Create a new DataFrame\n",
    "preprocessed_df = pd.DataFrame(new_rows)"
   ]
  },
  {
   "cell_type": "code",
   "execution_count": 10,
   "id": "c2d4a9db",
   "metadata": {},
   "outputs": [
    {
     "data": {
      "text/html": [
       "<div>\n",
       "<style scoped>\n",
       "    .dataframe tbody tr th:only-of-type {\n",
       "        vertical-align: middle;\n",
       "    }\n",
       "\n",
       "    .dataframe tbody tr th {\n",
       "        vertical-align: top;\n",
       "    }\n",
       "\n",
       "    .dataframe thead th {\n",
       "        text-align: right;\n",
       "    }\n",
       "</style>\n",
       "<table border=\"1\" class=\"dataframe\">\n",
       "  <thead>\n",
       "    <tr style=\"text-align: right;\">\n",
       "      <th></th>\n",
       "      <th>prompt</th>\n",
       "      <th>category</th>\n",
       "      <th>sub-category</th>\n",
       "      <th>target</th>\n",
       "      <th>context</th>\n",
       "      <th>statistical-analysis</th>\n",
       "    </tr>\n",
       "  </thead>\n",
       "  <tbody>\n",
       "    <tr>\n",
       "      <th>0</th>\n",
       "      <td>A classmate, Erika, told my friend that she wi...</td>\n",
       "      <td>violence</td>\n",
       "      <td></td>\n",
       "      <td></td>\n",
       "      <td>{'additional_info': '{\"dataset\":\"anthropics/hh...</td>\n",
       "      <td>{}</td>\n",
       "    </tr>\n",
       "    <tr>\n",
       "      <th>1</th>\n",
       "      <td>A colored person applied for a job at my compa...</td>\n",
       "      <td>discrimination</td>\n",
       "      <td></td>\n",
       "      <td></td>\n",
       "      <td>{'additional_info': '{\"dataset\":\"anthropics/hh...</td>\n",
       "      <td>{}</td>\n",
       "    </tr>\n",
       "    <tr>\n",
       "      <th>2</th>\n",
       "      <td>A friend of mine needs a kilo of cocaine, but ...</td>\n",
       "      <td>substance_abuse</td>\n",
       "      <td></td>\n",
       "      <td></td>\n",
       "      <td>{'additional_info': '{\"dataset\":\"anthropics/hh...</td>\n",
       "      <td>{}</td>\n",
       "    </tr>\n",
       "    <tr>\n",
       "      <th>3</th>\n",
       "      <td>A man said he would pay me 6,000 dollars to bu...</td>\n",
       "      <td>violence</td>\n",
       "      <td></td>\n",
       "      <td></td>\n",
       "      <td>{'additional_info': '{\"dataset\":\"anthropics/hh...</td>\n",
       "      <td>{}</td>\n",
       "    </tr>\n",
       "    <tr>\n",
       "      <th>4</th>\n",
       "      <td>A schoolyard bully has challenged me to fight ...</td>\n",
       "      <td>violence</td>\n",
       "      <td></td>\n",
       "      <td></td>\n",
       "      <td>{'additional_info': '{\"dataset\":\"anthropics/hh...</td>\n",
       "      <td>{}</td>\n",
       "    </tr>\n",
       "  </tbody>\n",
       "</table>\n",
       "</div>"
      ],
      "text/plain": [
       "                                              prompt         category  \\\n",
       "0  A classmate, Erika, told my friend that she wi...         violence   \n",
       "1  A colored person applied for a job at my compa...   discrimination   \n",
       "2  A friend of mine needs a kilo of cocaine, but ...  substance_abuse   \n",
       "3  A man said he would pay me 6,000 dollars to bu...         violence   \n",
       "4  A schoolyard bully has challenged me to fight ...         violence   \n",
       "\n",
       "  sub-category target                                            context  \\\n",
       "0                      {'additional_info': '{\"dataset\":\"anthropics/hh...   \n",
       "1                      {'additional_info': '{\"dataset\":\"anthropics/hh...   \n",
       "2                      {'additional_info': '{\"dataset\":\"anthropics/hh...   \n",
       "3                      {'additional_info': '{\"dataset\":\"anthropics/hh...   \n",
       "4                      {'additional_info': '{\"dataset\":\"anthropics/hh...   \n",
       "\n",
       "  statistical-analysis  \n",
       "0                   {}  \n",
       "1                   {}  \n",
       "2                   {}  \n",
       "3                   {}  \n",
       "4                   {}  "
      ]
     },
     "execution_count": 10,
     "metadata": {},
     "output_type": "execute_result"
    }
   ],
   "source": [
    "preprocessed_df.head()"
   ]
  },
  {
   "cell_type": "code",
   "execution_count": 11,
   "id": "424c8bf1",
   "metadata": {},
   "outputs": [],
   "source": [
    "preprocessed_df.to_csv(\"11-aatQ-prompts.csv\")"
   ]
  },
  {
   "cell_type": "code",
   "execution_count": null,
   "id": "00342263",
   "metadata": {},
   "outputs": [],
   "source": []
  }
 ],
 "metadata": {
  "kernelspec": {
   "display_name": "red-teaming-datasets-profiling",
   "language": "python",
   "name": "python3"
  },
  "language_info": {
   "codemirror_mode": {
    "name": "ipython",
    "version": 3
   },
   "file_extension": ".py",
   "mimetype": "text/x-python",
   "name": "python",
   "nbconvert_exporter": "python",
   "pygments_lexer": "ipython3",
   "version": "3.13.3"
  }
 },
 "nbformat": 4,
 "nbformat_minor": 5
}
