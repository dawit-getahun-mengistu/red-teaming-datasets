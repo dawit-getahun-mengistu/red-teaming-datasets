{
 "cells": [
  {
   "cell_type": "code",
   "execution_count": 1,
   "id": "fa2ec01f",
   "metadata": {},
   "outputs": [
    {
     "name": "stderr",
     "output_type": "stream",
     "text": [
      "c:\\Users\\mengi\\Desktop\\work\\testsavant\\redteaming\\red-teaming-datasets-profiling\\.venv\\Lib\\site-packages\\tqdm\\auto.py:21: TqdmWarning: IProgress not found. Please update jupyter and ipywidgets. See https://ipywidgets.readthedocs.io/en/stable/user_install.html\n",
      "  from .autonotebook import tqdm as notebook_tqdm\n"
     ]
    }
   ],
   "source": [
    "import pandas as pd\n",
    "\n",
    "# Login using e.g. `huggingface-cli login` to access this dataset\n",
    "df = pd.read_parquet(\"hf://datasets/allenai/wildguardmix/train/wildguard_train.parquet\")"
   ]
  },
  {
   "cell_type": "code",
   "execution_count": 2,
   "id": "e2d9f777",
   "metadata": {},
   "outputs": [],
   "source": [
    "df.to_csv(\"wildguard_train.csv\")\n",
    "df.to_json(\"wildguard_train.json\")"
   ]
  },
  {
   "cell_type": "code",
   "execution_count": 3,
   "id": "ccf6dd15",
   "metadata": {},
   "outputs": [],
   "source": [
    "df = pd.read_parquet(\"hf://datasets/allenai/wildguardmix/test/wildguard_test.parquet\")"
   ]
  },
  {
   "cell_type": "code",
   "execution_count": 4,
   "id": "056919d8",
   "metadata": {},
   "outputs": [],
   "source": [
    "df.to_csv(\"wildguard_test.csv\")\n",
    "df.to_json(\"wildguard_test.json\")"
   ]
  },
  {
   "cell_type": "code",
   "execution_count": null,
   "id": "2b86832d",
   "metadata": {},
   "outputs": [],
   "source": []
  }
 ],
 "metadata": {
  "kernelspec": {
   "display_name": "red-teaming-datasets-profiling",
   "language": "python",
   "name": "python3"
  },
  "language_info": {
   "codemirror_mode": {
    "name": "ipython",
    "version": 3
   },
   "file_extension": ".py",
   "mimetype": "text/x-python",
   "name": "python",
   "nbconvert_exporter": "python",
   "pygments_lexer": "ipython3",
   "version": "3.13.3"
  }
 },
 "nbformat": 4,
 "nbformat_minor": 5
}
