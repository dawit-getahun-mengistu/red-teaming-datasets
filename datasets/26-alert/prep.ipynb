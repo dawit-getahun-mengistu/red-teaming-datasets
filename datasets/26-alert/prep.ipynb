{
 "cells": [
  {
   "cell_type": "code",
   "execution_count": 2,
   "id": "677e68b9",
   "metadata": {},
   "outputs": [
    {
     "name": "stderr",
     "output_type": "stream",
     "text": [
      "Generating test split: 100%|██████████| 14763/14763 [00:00<00:00, 341268.89 examples/s]\n"
     ]
    }
   ],
   "source": [
    "from datasets import load_dataset\n",
    "\n",
    "ds = load_dataset(\"Babelscape/ALERT\", \"alert\")"
   ]
  },
  {
   "cell_type": "code",
   "execution_count": null,
   "id": "b83936a2",
   "metadata": {},
   "outputs": [
    {
     "name": "stderr",
     "output_type": "stream",
     "text": [
      "Saving the dataset (1/1 shards): 100%|██████████| 14763/14763 [00:00<00:00, 1035719.83 examples/s]\n"
     ]
    }
   ],
   "source": [
    "ds.save_to_disk(\"alert\")"
   ]
  },
  {
   "cell_type": "code",
   "execution_count": null,
   "id": "80c3c06a",
   "metadata": {},
   "outputs": [
    {
     "name": "stderr",
     "output_type": "stream",
     "text": [
      "Creating CSV from Arrow format: 100%|██████████| 15/15 [00:00<00:00, 213.87ba/s]\n",
      "Creating json from Arrow format: 100%|██████████| 15/15 [00:00<00:00, 478.66ba/s]\n"
     ]
    },
    {
     "data": {
      "text/plain": [
       "2142739"
      ]
     },
     "execution_count": 5,
     "metadata": {},
     "output_type": "execute_result"
    }
   ],
   "source": [
    "ds[\"test\"].to_csv(\"alert.csv\")\n",
    "ds[\"test\"].to_json(\"alert.json\")"
   ]
  },
  {
   "cell_type": "code",
   "execution_count": 6,
   "id": "2700350a",
   "metadata": {},
   "outputs": [
    {
     "name": "stderr",
     "output_type": "stream",
     "text": [
      "Generating test split: 100%|██████████| 30968/30968 [00:00<00:00, 636007.20 examples/s]\n"
     ]
    }
   ],
   "source": [
    "ds = load_dataset(\"Babelscape/ALERT\", \"alert_adversarial\")"
   ]
  },
  {
   "cell_type": "code",
   "execution_count": 7,
   "id": "0e5be1ff",
   "metadata": {},
   "outputs": [
    {
     "name": "stderr",
     "output_type": "stream",
     "text": [
      "Saving the dataset (1/1 shards): 100%|██████████| 30968/30968 [00:00<00:00, 1026418.90 examples/s]\n"
     ]
    }
   ],
   "source": [
    "ds.save_to_disk(\"alert_adversarial\")"
   ]
  },
  {
   "cell_type": "code",
   "execution_count": 8,
   "id": "50ace7b0",
   "metadata": {},
   "outputs": [
    {
     "name": "stderr",
     "output_type": "stream",
     "text": [
      "Creating CSV from Arrow format: 100%|██████████| 31/31 [00:00<00:00, 119.69ba/s]\n",
      "Creating json from Arrow format: 100%|██████████| 31/31 [00:00<00:00, 297.10ba/s]\n"
     ]
    },
    {
     "data": {
      "text/plain": [
       "8692338"
      ]
     },
     "execution_count": 8,
     "metadata": {},
     "output_type": "execute_result"
    }
   ],
   "source": [
    "ds[\"test\"].to_csv(\"alert_adversarial.csv\")\n",
    "ds[\"test\"].to_json(\"alert_adversarial.json\")"
   ]
  },
  {
   "cell_type": "code",
   "execution_count": null,
   "id": "bffe7fc1",
   "metadata": {},
   "outputs": [],
   "source": []
  }
 ],
 "metadata": {
  "kernelspec": {
   "display_name": "red-teaming-datasets-profiling",
   "language": "python",
   "name": "python3"
  },
  "language_info": {
   "codemirror_mode": {
    "name": "ipython",
    "version": 3
   },
   "file_extension": ".py",
   "mimetype": "text/x-python",
   "name": "python",
   "nbconvert_exporter": "python",
   "pygments_lexer": "ipython3",
   "version": "3.13.3"
  }
 },
 "nbformat": 4,
 "nbformat_minor": 5
}
