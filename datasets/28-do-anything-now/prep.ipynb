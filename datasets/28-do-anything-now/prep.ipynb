{
 "cells": [
  {
   "cell_type": "code",
   "execution_count": null,
   "id": "f4ad88c2",
   "metadata": {},
   "outputs": [
    {
     "name": "stderr",
     "output_type": "stream",
     "text": [
      "c:\\Users\\mengi\\Desktop\\work\\testsavant\\redteaming\\red-teaming-datasets-profiling\\.venv\\Lib\\site-packages\\tqdm\\auto.py:21: TqdmWarning: IProgress not found. Please update jupyter and ipywidgets. See https://ipywidgets.readthedocs.io/en/stable/user_install.html\n",
      "  from .autonotebook import tqdm as notebook_tqdm\n"
     ]
    }
   ],
   "source": [
    "import pandas as pd\n",
    "\n",
    "df = pd.read_parquet(\n",
    "    \"hf://datasets/TrustAIRLab/in-the-wild-jailbreak-prompts/jailbreak_2023_05_07/train-00000-of-00001.parquet\"\n",
    ")"
   ]
  },
  {
   "cell_type": "code",
   "execution_count": 3,
   "id": "cf1f246c",
   "metadata": {},
   "outputs": [],
   "source": [
    "df.to_csv(\"jailbreak_2023_05_07-train.csv\")\n",
    "df.to_json(\"jailbreak_2023_05_07-train.json\")"
   ]
  },
  {
   "cell_type": "code",
   "execution_count": null,
   "id": "fd339d0f",
   "metadata": {},
   "outputs": [],
   "source": [
    "df = pd.read_parquet(\n",
    "    \"hf://datasets/TrustAIRLab/in-the-wild-jailbreak-prompts/jailbreak_2023_12_25/train-00000-of-00001.parquet\"\n",
    ")"
   ]
  },
  {
   "cell_type": "code",
   "execution_count": 5,
   "id": "fe1ed494",
   "metadata": {},
   "outputs": [],
   "source": [
    "df.to_csv(\"jailbreak_2023_12_25-train.csv\")\n",
    "df.to_json(\"jailbreak_2023_12_25-train.json\")"
   ]
  },
  {
   "cell_type": "code",
   "execution_count": null,
   "id": "729f2b4a",
   "metadata": {},
   "outputs": [],
   "source": [
    "df = pd.read_parquet(\n",
    "    \"hf://datasets/TrustAIRLab/in-the-wild-jailbreak-prompts/regular_2023_05_07/train-00000-of-00001.parquet\"\n",
    ")"
   ]
  },
  {
   "cell_type": "code",
   "execution_count": 7,
   "id": "6f9e6cfa",
   "metadata": {},
   "outputs": [],
   "source": [
    "df.to_csv(\"regular_2023_05_07-train.csv\")\n",
    "df.to_json(\"regular_2023_05_07-train.json\")"
   ]
  },
  {
   "cell_type": "code",
   "execution_count": null,
   "id": "b242f83d",
   "metadata": {},
   "outputs": [],
   "source": []
  }
 ],
 "metadata": {
  "kernelspec": {
   "display_name": "red-teaming-datasets-profiling",
   "language": "python",
   "name": "python3"
  },
  "language_info": {
   "codemirror_mode": {
    "name": "ipython",
    "version": 3
   },
   "file_extension": ".py",
   "mimetype": "text/x-python",
   "name": "python",
   "nbconvert_exporter": "python",
   "pygments_lexer": "ipython3",
   "version": "3.13.3"
  }
 },
 "nbformat": 4,
 "nbformat_minor": 5
}
