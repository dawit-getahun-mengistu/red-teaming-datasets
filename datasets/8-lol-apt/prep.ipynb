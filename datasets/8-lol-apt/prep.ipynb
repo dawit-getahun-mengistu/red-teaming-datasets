{
 "cells": [
  {
   "cell_type": "code",
   "execution_count": null,
   "id": "e9e144fb",
   "metadata": {},
   "outputs": [],
   "source": [
    "import jsonlines\n",
    "import pandas as pd\n",
    "\n",
    "# Load JSONL dataset\n",
    "data = []\n",
    "with jsonlines.open(\"living_of_land_attacks_dataset.jsonl\") as reader:\n",
    "    for obj in reader:\n",
    "        data.append(obj)\n",
    "\n",
    "# Convert to DataFrame\n",
    "df = pd.DataFrame(data)\n",
    "print(df[[\"id\", \"tactic\", \"technique\", \"threat\"]].head())\n"
   ]
  },
  {
   "cell_type": "code",
   "execution_count": null,
   "id": "d91982b8",
   "metadata": {},
   "outputs": [],
   "source": []
  }
 ],
 "metadata": {
  "kernelspec": {
   "display_name": ".venv",
   "language": "python",
   "name": "python3"
  },
  "language_info": {
   "codemirror_mode": {
    "name": "ipython",
    "version": 3
   },
   "file_extension": ".py",
   "mimetype": "text/x-python",
   "name": "python",
   "nbconvert_exporter": "python",
   "pygments_lexer": "ipython3",
   "version": "3.13.3"
  }
 },
 "nbformat": 4,
 "nbformat_minor": 5
}
