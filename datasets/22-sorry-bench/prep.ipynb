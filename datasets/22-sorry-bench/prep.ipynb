{
 "cells": [
  {
   "cell_type": "code",
   "execution_count": 1,
   "id": "c628c4dd",
   "metadata": {},
   "outputs": [
    {
     "name": "stderr",
     "output_type": "stream",
     "text": [
      "c:\\Users\\mengi\\Desktop\\work\\testsavant\\redteaming\\red-teaming-datasets-profiling\\.venv\\Lib\\site-packages\\tqdm\\auto.py:21: TqdmWarning: IProgress not found. Please update jupyter and ipywidgets. See https://ipywidgets.readthedocs.io/en/stable/user_install.html\n",
      "  from .autonotebook import tqdm as notebook_tqdm\n",
      "Downloading data: 100%|██████████| 21/21 [00:09<00:00,  2.14files/s]\n",
      "Generating train split: 100%|██████████| 9240/9240 [00:00<00:00, 39007.91 examples/s]\n"
     ]
    }
   ],
   "source": [
    "from datasets import load_dataset\n",
    "\n",
    "# Login using e.g. `huggingface-cli login` to access this dataset\n",
    "ds = load_dataset(\"sorry-bench/sorry-bench-202503\")"
   ]
  },
  {
   "cell_type": "code",
   "execution_count": 2,
   "id": "89e230bc",
   "metadata": {},
   "outputs": [
    {
     "name": "stderr",
     "output_type": "stream",
     "text": [
      "Saving the dataset (1/1 shards): 100%|██████████| 9240/9240 [00:00<00:00, 312762.74 examples/s]\n"
     ]
    }
   ],
   "source": [
    "ds.save_to_disk(\"sorryBench\")"
   ]
  },
  {
   "cell_type": "code",
   "execution_count": 3,
   "id": "f65bf169",
   "metadata": {},
   "outputs": [
    {
     "name": "stderr",
     "output_type": "stream",
     "text": [
      "Creating CSV from Arrow format: 100%|██████████| 10/10 [00:00<00:00, 21.71ba/s]\n",
      "Creating json from Arrow format: 100%|██████████| 10/10 [00:00<00:00, 69.92ba/s]\n"
     ]
    },
    {
     "data": {
      "text/plain": [
       "8790522"
      ]
     },
     "execution_count": 3,
     "metadata": {},
     "output_type": "execute_result"
    }
   ],
   "source": [
    "ds[\"train\"].to_csv(\"train.csv\")\n",
    "ds[\"train\"].to_json(\"train.json\")"
   ]
  },
  {
   "cell_type": "code",
   "execution_count": null,
   "id": "af8fd66b",
   "metadata": {},
   "outputs": [],
   "source": []
  }
 ],
 "metadata": {
  "kernelspec": {
   "display_name": "red-teaming-datasets-profiling",
   "language": "python",
   "name": "python3"
  },
  "language_info": {
   "codemirror_mode": {
    "name": "ipython",
    "version": 3
   },
   "file_extension": ".py",
   "mimetype": "text/x-python",
   "name": "python",
   "nbconvert_exporter": "python",
   "pygments_lexer": "ipython3",
   "version": "3.13.3"
  }
 },
 "nbformat": 4,
 "nbformat_minor": 5
}
