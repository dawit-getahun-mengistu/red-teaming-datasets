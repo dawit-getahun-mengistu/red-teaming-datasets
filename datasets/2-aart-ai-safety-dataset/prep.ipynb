{
 "cells": [
  {
   "cell_type": "code",
   "execution_count": 1,
   "id": "083749a0",
   "metadata": {},
   "outputs": [
    {
     "name": "stderr",
     "output_type": "stream",
     "text": [
      "c:\\Users\\mengi\\Desktop\\work\\testsavant\\redteaming\\red-teaming-datasets-profiling\\.venv\\Lib\\site-packages\\tqdm\\auto.py:21: TqdmWarning: IProgress not found. Please update jupyter and ipywidgets. See https://ipywidgets.readthedocs.io/en/stable/user_install.html\n",
      "  from .autonotebook import tqdm as notebook_tqdm\n",
      "Generating train split: 100%|██████████| 3269/3269 [00:00<00:00, 71255.78 examples/s]\n"
     ]
    }
   ],
   "source": [
    "from datasets import load_dataset\n",
    "\n",
    "ds = load_dataset(\"davanstrien/aart-ai-safety-dataset\")"
   ]
  },
  {
   "cell_type": "code",
   "execution_count": 2,
   "id": "2570329f",
   "metadata": {},
   "outputs": [
    {
     "name": "stderr",
     "output_type": "stream",
     "text": [
      "Saving the dataset (1/1 shards): 100%|██████████| 3269/3269 [00:00<00:00, 369314.76 examples/s]\n"
     ]
    }
   ],
   "source": [
    "ds.save_to_disk(\"aart-ai-savefty\")"
   ]
  },
  {
   "cell_type": "code",
   "execution_count": 3,
   "id": "ba48b527",
   "metadata": {},
   "outputs": [
    {
     "name": "stderr",
     "output_type": "stream",
     "text": [
      "Creating CSV from Arrow format: 100%|██████████| 4/4 [00:00<00:00, 85.55ba/s]\n",
      "Creating json from Arrow format: 100%|██████████| 4/4 [00:00<00:00, 139.71ba/s]\n"
     ]
    },
    {
     "data": {
      "text/plain": [
       "2573833"
      ]
     },
     "execution_count": 3,
     "metadata": {},
     "output_type": "execute_result"
    }
   ],
   "source": [
    "ds[\"train\"].to_csv(\"train.csv\")\n",
    "ds[\"train\"].to_json(\"train.json\")"
   ]
  },
  {
   "cell_type": "code",
   "execution_count": null,
   "id": "8fbabf9f",
   "metadata": {},
   "outputs": [],
   "source": []
  }
 ],
 "metadata": {
  "kernelspec": {
   "display_name": "red-teaming-datasets-profiling",
   "language": "python",
   "name": "python3"
  },
  "language_info": {
   "codemirror_mode": {
    "name": "ipython",
    "version": 3
   },
   "file_extension": ".py",
   "mimetype": "text/x-python",
   "name": "python",
   "nbconvert_exporter": "python",
   "pygments_lexer": "ipython3",
   "version": "3.13.3"
  }
 },
 "nbformat": 4,
 "nbformat_minor": 5
}
