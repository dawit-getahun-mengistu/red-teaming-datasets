{
 "cells": [
  {
   "cell_type": "code",
   "execution_count": 2,
   "id": "47c2eff2",
   "metadata": {},
   "outputs": [
    {
     "name": "stderr",
     "output_type": "stream",
     "text": [
      "Generating train split: 100%|██████████| 5000/5000 [00:00<00:00, 22323.59 examples/s]\n"
     ]
    }
   ],
   "source": [
    "from datasets import load_dataset\n",
    "\n",
    "ds = load_dataset(\"OpenSafetyLab/Salad-Data\", \"attack_enhanced_set\")"
   ]
  },
  {
   "cell_type": "code",
   "execution_count": 3,
   "id": "4f930610",
   "metadata": {},
   "outputs": [
    {
     "name": "stderr",
     "output_type": "stream",
     "text": [
      "Saving the dataset (1/1 shards): 100%|██████████| 5000/5000 [00:00<00:00, 194678.25 examples/s]\n"
     ]
    }
   ],
   "source": [
    "ds.save_to_disk(\"attack_enhanced_set\")"
   ]
  },
  {
   "cell_type": "code",
   "execution_count": 4,
   "id": "ebe53e30",
   "metadata": {},
   "outputs": [
    {
     "name": "stderr",
     "output_type": "stream",
     "text": [
      "Creating CSV from Arrow format: 100%|██████████| 5/5 [00:00<00:00, 15.04ba/s]\n",
      "Creating json from Arrow format: 100%|██████████| 5/5 [00:00<00:00, 30.40ba/s]\n"
     ]
    },
    {
     "data": {
      "text/plain": [
       "14665958"
      ]
     },
     "execution_count": 4,
     "metadata": {},
     "output_type": "execute_result"
    }
   ],
   "source": [
    "ds[\"train\"].to_csv(\"attack_enhanced_set.csv\")\n",
    "ds[\"train\"].to_json(\"attack_enhanced_set.json\")"
   ]
  },
  {
   "cell_type": "code",
   "execution_count": null,
   "id": "9c95a867",
   "metadata": {},
   "outputs": [
    {
     "name": "stderr",
     "output_type": "stream",
     "text": [
      "Generating train split: 100%|██████████| 21318/21318 [00:00<00:00, 111828.10 examples/s]\n"
     ]
    }
   ],
   "source": [
    "ds = load_dataset(\"OpenSafetyLab/Salad-Data\", \"base_set\")"
   ]
  },
  {
   "cell_type": "code",
   "execution_count": 6,
   "id": "64b9494e",
   "metadata": {},
   "outputs": [
    {
     "name": "stderr",
     "output_type": "stream",
     "text": [
      "Saving the dataset (1/1 shards): 100%|██████████| 21318/21318 [00:00<00:00, 1137961.32 examples/s]\n"
     ]
    }
   ],
   "source": [
    "ds.save_to_disk(\"base_set\")"
   ]
  },
  {
   "cell_type": "code",
   "execution_count": 7,
   "id": "552744b4",
   "metadata": {},
   "outputs": [
    {
     "name": "stderr",
     "output_type": "stream",
     "text": [
      "Creating CSV from Arrow format: 100%|██████████| 22/22 [00:00<00:00, 181.27ba/s]\n",
      "Creating json from Arrow format: 100%|██████████| 22/22 [00:00<00:00, 230.86ba/s]\n"
     ]
    },
    {
     "data": {
      "text/plain": [
       "5356278"
      ]
     },
     "execution_count": 7,
     "metadata": {},
     "output_type": "execute_result"
    }
   ],
   "source": [
    "ds[\"train\"].to_csv(\"base_set.csv\")\n",
    "ds[\"train\"].to_json(\"base_set.json\")"
   ]
  },
  {
   "cell_type": "code",
   "execution_count": 8,
   "id": "ccccac55",
   "metadata": {},
   "outputs": [
    {
     "name": "stderr",
     "output_type": "stream",
     "text": [
      "Generating train split: 100%|██████████| 200/200 [00:00<00:00, 18851.23 examples/s]\n"
     ]
    }
   ],
   "source": [
    "ds = load_dataset(\"OpenSafetyLab/Salad-Data\", \"defense_enhanced_set\")"
   ]
  },
  {
   "cell_type": "code",
   "execution_count": 9,
   "id": "70879d20",
   "metadata": {},
   "outputs": [
    {
     "name": "stderr",
     "output_type": "stream",
     "text": [
      "Saving the dataset (1/1 shards): 100%|██████████| 200/200 [00:00<00:00, 37139.10 examples/s]\n"
     ]
    }
   ],
   "source": [
    "ds.save_to_disk(\"defense_enhanced_set\")"
   ]
  },
  {
   "cell_type": "code",
   "execution_count": 10,
   "id": "656fcae1",
   "metadata": {},
   "outputs": [
    {
     "name": "stderr",
     "output_type": "stream",
     "text": [
      "Creating CSV from Arrow format: 100%|██████████| 1/1 [00:00<00:00, 184.07ba/s]\n",
      "Creating json from Arrow format: 100%|██████████| 1/1 [00:00<00:00, 116.04ba/s]\n"
     ]
    },
    {
     "data": {
      "text/plain": [
       "93652"
      ]
     },
     "execution_count": 10,
     "metadata": {},
     "output_type": "execute_result"
    }
   ],
   "source": [
    "ds[\"train\"].to_csv(\"defense_enhanced_set.csv\")\n",
    "ds[\"train\"].to_json(\"defense_enhanced_set.json\")"
   ]
  },
  {
   "cell_type": "code",
   "execution_count": null,
   "id": "197e560c",
   "metadata": {},
   "outputs": [],
   "source": []
  },
  {
   "cell_type": "code",
   "execution_count": null,
   "id": "083c2ee8",
   "metadata": {},
   "outputs": [],
   "source": []
  }
 ],
 "metadata": {
  "kernelspec": {
   "display_name": "red-teaming-datasets-profiling",
   "language": "python",
   "name": "python3"
  },
  "language_info": {
   "codemirror_mode": {
    "name": "ipython",
    "version": 3
   },
   "file_extension": ".py",
   "mimetype": "text/x-python",
   "name": "python",
   "nbconvert_exporter": "python",
   "pygments_lexer": "ipython3",
   "version": "3.13.3"
  }
 },
 "nbformat": 4,
 "nbformat_minor": 5
}
